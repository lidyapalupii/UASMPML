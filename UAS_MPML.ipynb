{
  "nbformat": 4,
  "nbformat_minor": 0,
  "metadata": {
    "colab": {
      "provenance": [],
      "authorship_tag": "ABX9TyNBGru0jlzIWihzdF8xfFGB",
      "include_colab_link": true
    },
    "kernelspec": {
      "name": "python3",
      "display_name": "Python 3"
    },
    "language_info": {
      "name": "python"
    }
  },
  "cells": [
    {
      "cell_type": "markdown",
      "metadata": {
        "id": "view-in-github",
        "colab_type": "text"
      },
      "source": [
        "<a href=\"https://colab.research.google.com/github/lidyapalupii/UASMPML/blob/main/UAS_MPML.ipynb\" target=\"_parent\"><img src=\"https://colab.research.google.com/assets/colab-badge.svg\" alt=\"Open In Colab\"/></a>"
      ]
    },
    {
      "cell_type": "markdown",
      "source": [
        "# **Evaluation**"
      ],
      "metadata": {
        "id": "bK8847sfFZaH"
      }
    },
    {
      "cell_type": "markdown",
      "source": [
        "# **Dataset Selection and Exploration**"
      ],
      "metadata": {
        "id": "T4v4fhEyiLVw"
      }
    },
    {
      "cell_type": "code",
      "source": [
        "import pandas as pd\n",
        "import numpy as np\n",
        "import matplotlib.pyplot as plt\n",
        "import seaborn as sns\n",
        "from sklearn.preprocessing import LabelEncoder\n",
        "from sklearn.model_selection import train_test_split, GridSearchCV, cross_val_score\n",
        "from sklearn.tree import DecisionTreeClassifier\n",
        "from sklearn.ensemble import RandomForestClassifier\n",
        "from sklearn.metrics import accuracy_score, precision_score, recall_score, f1_score, classification_report"
      ],
      "metadata": {
        "id": "DN2hHrly-nQJ"
      },
      "execution_count": 22,
      "outputs": []
    },
    {
      "cell_type": "code",
      "execution_count": 2,
      "metadata": {
        "id": "Gmf29v_-9QWs",
        "colab": {
          "base_uri": "https://localhost:8080/",
          "height": 206
        },
        "outputId": "003e9639-0fec-4274-de9a-a35b60a5357e"
      },
      "outputs": [
        {
          "output_type": "execute_result",
          "data": {
            "text/plain": [
              "  RestaurantID MenuCategory               MenuItem  \\\n",
              "0         R003    Beverages                   Soda   \n",
              "1         R001   Appetizers  Spinach Artichoke Dip   \n",
              "2         R003     Desserts    New York Cheesecake   \n",
              "3         R003  Main Course        Chicken Alfredo   \n",
              "4         R002  Main Course          Grilled Steak   \n",
              "\n",
              "                                         Ingredients  Price Profitability  \n",
              "0                                   ['confidential']   2.55           Low  \n",
              "1       ['Tomatoes', 'Basil', 'Garlic', 'Olive Oil']  11.12        Medium  \n",
              "2           ['Chocolate', 'Butter', 'Sugar', 'Eggs']  18.66          High  \n",
              "3  ['Chicken', 'Fettuccine', 'Alfredo Sauce', 'Pa...  29.55          High  \n",
              "4  ['Chicken', 'Fettuccine', 'Alfredo Sauce', 'Pa...  17.73        Medium  "
            ],
            "text/html": [
              "\n",
              "  <div id=\"df-89a9f8a0-05a0-47aa-9ef6-8e49253e1ba2\" class=\"colab-df-container\">\n",
              "    <div>\n",
              "<style scoped>\n",
              "    .dataframe tbody tr th:only-of-type {\n",
              "        vertical-align: middle;\n",
              "    }\n",
              "\n",
              "    .dataframe tbody tr th {\n",
              "        vertical-align: top;\n",
              "    }\n",
              "\n",
              "    .dataframe thead th {\n",
              "        text-align: right;\n",
              "    }\n",
              "</style>\n",
              "<table border=\"1\" class=\"dataframe\">\n",
              "  <thead>\n",
              "    <tr style=\"text-align: right;\">\n",
              "      <th></th>\n",
              "      <th>RestaurantID</th>\n",
              "      <th>MenuCategory</th>\n",
              "      <th>MenuItem</th>\n",
              "      <th>Ingredients</th>\n",
              "      <th>Price</th>\n",
              "      <th>Profitability</th>\n",
              "    </tr>\n",
              "  </thead>\n",
              "  <tbody>\n",
              "    <tr>\n",
              "      <th>0</th>\n",
              "      <td>R003</td>\n",
              "      <td>Beverages</td>\n",
              "      <td>Soda</td>\n",
              "      <td>['confidential']</td>\n",
              "      <td>2.55</td>\n",
              "      <td>Low</td>\n",
              "    </tr>\n",
              "    <tr>\n",
              "      <th>1</th>\n",
              "      <td>R001</td>\n",
              "      <td>Appetizers</td>\n",
              "      <td>Spinach Artichoke Dip</td>\n",
              "      <td>['Tomatoes', 'Basil', 'Garlic', 'Olive Oil']</td>\n",
              "      <td>11.12</td>\n",
              "      <td>Medium</td>\n",
              "    </tr>\n",
              "    <tr>\n",
              "      <th>2</th>\n",
              "      <td>R003</td>\n",
              "      <td>Desserts</td>\n",
              "      <td>New York Cheesecake</td>\n",
              "      <td>['Chocolate', 'Butter', 'Sugar', 'Eggs']</td>\n",
              "      <td>18.66</td>\n",
              "      <td>High</td>\n",
              "    </tr>\n",
              "    <tr>\n",
              "      <th>3</th>\n",
              "      <td>R003</td>\n",
              "      <td>Main Course</td>\n",
              "      <td>Chicken Alfredo</td>\n",
              "      <td>['Chicken', 'Fettuccine', 'Alfredo Sauce', 'Pa...</td>\n",
              "      <td>29.55</td>\n",
              "      <td>High</td>\n",
              "    </tr>\n",
              "    <tr>\n",
              "      <th>4</th>\n",
              "      <td>R002</td>\n",
              "      <td>Main Course</td>\n",
              "      <td>Grilled Steak</td>\n",
              "      <td>['Chicken', 'Fettuccine', 'Alfredo Sauce', 'Pa...</td>\n",
              "      <td>17.73</td>\n",
              "      <td>Medium</td>\n",
              "    </tr>\n",
              "  </tbody>\n",
              "</table>\n",
              "</div>\n",
              "    <div class=\"colab-df-buttons\">\n",
              "\n",
              "  <div class=\"colab-df-container\">\n",
              "    <button class=\"colab-df-convert\" onclick=\"convertToInteractive('df-89a9f8a0-05a0-47aa-9ef6-8e49253e1ba2')\"\n",
              "            title=\"Convert this dataframe to an interactive table.\"\n",
              "            style=\"display:none;\">\n",
              "\n",
              "  <svg xmlns=\"http://www.w3.org/2000/svg\" height=\"24px\" viewBox=\"0 -960 960 960\">\n",
              "    <path d=\"M120-120v-720h720v720H120Zm60-500h600v-160H180v160Zm220 220h160v-160H400v160Zm0 220h160v-160H400v160ZM180-400h160v-160H180v160Zm440 0h160v-160H620v160ZM180-180h160v-160H180v160Zm440 0h160v-160H620v160Z\"/>\n",
              "  </svg>\n",
              "    </button>\n",
              "\n",
              "  <style>\n",
              "    .colab-df-container {\n",
              "      display:flex;\n",
              "      gap: 12px;\n",
              "    }\n",
              "\n",
              "    .colab-df-convert {\n",
              "      background-color: #E8F0FE;\n",
              "      border: none;\n",
              "      border-radius: 50%;\n",
              "      cursor: pointer;\n",
              "      display: none;\n",
              "      fill: #1967D2;\n",
              "      height: 32px;\n",
              "      padding: 0 0 0 0;\n",
              "      width: 32px;\n",
              "    }\n",
              "\n",
              "    .colab-df-convert:hover {\n",
              "      background-color: #E2EBFA;\n",
              "      box-shadow: 0px 1px 2px rgba(60, 64, 67, 0.3), 0px 1px 3px 1px rgba(60, 64, 67, 0.15);\n",
              "      fill: #174EA6;\n",
              "    }\n",
              "\n",
              "    .colab-df-buttons div {\n",
              "      margin-bottom: 4px;\n",
              "    }\n",
              "\n",
              "    [theme=dark] .colab-df-convert {\n",
              "      background-color: #3B4455;\n",
              "      fill: #D2E3FC;\n",
              "    }\n",
              "\n",
              "    [theme=dark] .colab-df-convert:hover {\n",
              "      background-color: #434B5C;\n",
              "      box-shadow: 0px 1px 3px 1px rgba(0, 0, 0, 0.15);\n",
              "      filter: drop-shadow(0px 1px 2px rgba(0, 0, 0, 0.3));\n",
              "      fill: #FFFFFF;\n",
              "    }\n",
              "  </style>\n",
              "\n",
              "    <script>\n",
              "      const buttonEl =\n",
              "        document.querySelector('#df-89a9f8a0-05a0-47aa-9ef6-8e49253e1ba2 button.colab-df-convert');\n",
              "      buttonEl.style.display =\n",
              "        google.colab.kernel.accessAllowed ? 'block' : 'none';\n",
              "\n",
              "      async function convertToInteractive(key) {\n",
              "        const element = document.querySelector('#df-89a9f8a0-05a0-47aa-9ef6-8e49253e1ba2');\n",
              "        const dataTable =\n",
              "          await google.colab.kernel.invokeFunction('convertToInteractive',\n",
              "                                                    [key], {});\n",
              "        if (!dataTable) return;\n",
              "\n",
              "        const docLinkHtml = 'Like what you see? Visit the ' +\n",
              "          '<a target=\"_blank\" href=https://colab.research.google.com/notebooks/data_table.ipynb>data table notebook</a>'\n",
              "          + ' to learn more about interactive tables.';\n",
              "        element.innerHTML = '';\n",
              "        dataTable['output_type'] = 'display_data';\n",
              "        await google.colab.output.renderOutput(dataTable, element);\n",
              "        const docLink = document.createElement('div');\n",
              "        docLink.innerHTML = docLinkHtml;\n",
              "        element.appendChild(docLink);\n",
              "      }\n",
              "    </script>\n",
              "  </div>\n",
              "\n",
              "\n",
              "<div id=\"df-d3eba54d-98a4-41e4-bce6-50b352e0f087\">\n",
              "  <button class=\"colab-df-quickchart\" onclick=\"quickchart('df-d3eba54d-98a4-41e4-bce6-50b352e0f087')\"\n",
              "            title=\"Suggest charts\"\n",
              "            style=\"display:none;\">\n",
              "\n",
              "<svg xmlns=\"http://www.w3.org/2000/svg\" height=\"24px\"viewBox=\"0 0 24 24\"\n",
              "     width=\"24px\">\n",
              "    <g>\n",
              "        <path d=\"M19 3H5c-1.1 0-2 .9-2 2v14c0 1.1.9 2 2 2h14c1.1 0 2-.9 2-2V5c0-1.1-.9-2-2-2zM9 17H7v-7h2v7zm4 0h-2V7h2v10zm4 0h-2v-4h2v4z\"/>\n",
              "    </g>\n",
              "</svg>\n",
              "  </button>\n",
              "\n",
              "<style>\n",
              "  .colab-df-quickchart {\n",
              "      --bg-color: #E8F0FE;\n",
              "      --fill-color: #1967D2;\n",
              "      --hover-bg-color: #E2EBFA;\n",
              "      --hover-fill-color: #174EA6;\n",
              "      --disabled-fill-color: #AAA;\n",
              "      --disabled-bg-color: #DDD;\n",
              "  }\n",
              "\n",
              "  [theme=dark] .colab-df-quickchart {\n",
              "      --bg-color: #3B4455;\n",
              "      --fill-color: #D2E3FC;\n",
              "      --hover-bg-color: #434B5C;\n",
              "      --hover-fill-color: #FFFFFF;\n",
              "      --disabled-bg-color: #3B4455;\n",
              "      --disabled-fill-color: #666;\n",
              "  }\n",
              "\n",
              "  .colab-df-quickchart {\n",
              "    background-color: var(--bg-color);\n",
              "    border: none;\n",
              "    border-radius: 50%;\n",
              "    cursor: pointer;\n",
              "    display: none;\n",
              "    fill: var(--fill-color);\n",
              "    height: 32px;\n",
              "    padding: 0;\n",
              "    width: 32px;\n",
              "  }\n",
              "\n",
              "  .colab-df-quickchart:hover {\n",
              "    background-color: var(--hover-bg-color);\n",
              "    box-shadow: 0 1px 2px rgba(60, 64, 67, 0.3), 0 1px 3px 1px rgba(60, 64, 67, 0.15);\n",
              "    fill: var(--button-hover-fill-color);\n",
              "  }\n",
              "\n",
              "  .colab-df-quickchart-complete:disabled,\n",
              "  .colab-df-quickchart-complete:disabled:hover {\n",
              "    background-color: var(--disabled-bg-color);\n",
              "    fill: var(--disabled-fill-color);\n",
              "    box-shadow: none;\n",
              "  }\n",
              "\n",
              "  .colab-df-spinner {\n",
              "    border: 2px solid var(--fill-color);\n",
              "    border-color: transparent;\n",
              "    border-bottom-color: var(--fill-color);\n",
              "    animation:\n",
              "      spin 1s steps(1) infinite;\n",
              "  }\n",
              "\n",
              "  @keyframes spin {\n",
              "    0% {\n",
              "      border-color: transparent;\n",
              "      border-bottom-color: var(--fill-color);\n",
              "      border-left-color: var(--fill-color);\n",
              "    }\n",
              "    20% {\n",
              "      border-color: transparent;\n",
              "      border-left-color: var(--fill-color);\n",
              "      border-top-color: var(--fill-color);\n",
              "    }\n",
              "    30% {\n",
              "      border-color: transparent;\n",
              "      border-left-color: var(--fill-color);\n",
              "      border-top-color: var(--fill-color);\n",
              "      border-right-color: var(--fill-color);\n",
              "    }\n",
              "    40% {\n",
              "      border-color: transparent;\n",
              "      border-right-color: var(--fill-color);\n",
              "      border-top-color: var(--fill-color);\n",
              "    }\n",
              "    60% {\n",
              "      border-color: transparent;\n",
              "      border-right-color: var(--fill-color);\n",
              "    }\n",
              "    80% {\n",
              "      border-color: transparent;\n",
              "      border-right-color: var(--fill-color);\n",
              "      border-bottom-color: var(--fill-color);\n",
              "    }\n",
              "    90% {\n",
              "      border-color: transparent;\n",
              "      border-bottom-color: var(--fill-color);\n",
              "    }\n",
              "  }\n",
              "</style>\n",
              "\n",
              "  <script>\n",
              "    async function quickchart(key) {\n",
              "      const quickchartButtonEl =\n",
              "        document.querySelector('#' + key + ' button');\n",
              "      quickchartButtonEl.disabled = true;  // To prevent multiple clicks.\n",
              "      quickchartButtonEl.classList.add('colab-df-spinner');\n",
              "      try {\n",
              "        const charts = await google.colab.kernel.invokeFunction(\n",
              "            'suggestCharts', [key], {});\n",
              "      } catch (error) {\n",
              "        console.error('Error during call to suggestCharts:', error);\n",
              "      }\n",
              "      quickchartButtonEl.classList.remove('colab-df-spinner');\n",
              "      quickchartButtonEl.classList.add('colab-df-quickchart-complete');\n",
              "    }\n",
              "    (() => {\n",
              "      let quickchartButtonEl =\n",
              "        document.querySelector('#df-d3eba54d-98a4-41e4-bce6-50b352e0f087 button');\n",
              "      quickchartButtonEl.style.display =\n",
              "        google.colab.kernel.accessAllowed ? 'block' : 'none';\n",
              "    })();\n",
              "  </script>\n",
              "</div>\n",
              "\n",
              "    </div>\n",
              "  </div>\n"
            ],
            "application/vnd.google.colaboratory.intrinsic+json": {
              "type": "dataframe",
              "variable_name": "df",
              "summary": "{\n  \"name\": \"df\",\n  \"rows\": 1000,\n  \"fields\": [\n    {\n      \"column\": \"RestaurantID\",\n      \"properties\": {\n        \"dtype\": \"category\",\n        \"num_unique_values\": 3,\n        \"samples\": [\n          \"R003\",\n          \"R001\",\n          \"R002\"\n        ],\n        \"semantic_type\": \"\",\n        \"description\": \"\"\n      }\n    },\n    {\n      \"column\": \"MenuCategory\",\n      \"properties\": {\n        \"dtype\": \"category\",\n        \"num_unique_values\": 4,\n        \"samples\": [\n          \"Appetizers\",\n          \"Main Course\",\n          \"Beverages\"\n        ],\n        \"semantic_type\": \"\",\n        \"description\": \"\"\n      }\n    },\n    {\n      \"column\": \"MenuItem\",\n      \"properties\": {\n        \"dtype\": \"category\",\n        \"num_unique_values\": 16,\n        \"samples\": [\n          \"Soda\",\n          \"Spinach Artichoke Dip\",\n          \"Stuffed Mushrooms\"\n        ],\n        \"semantic_type\": \"\",\n        \"description\": \"\"\n      }\n    },\n    {\n      \"column\": \"Ingredients\",\n      \"properties\": {\n        \"dtype\": \"category\",\n        \"num_unique_values\": 4,\n        \"samples\": [\n          \"['Tomatoes', 'Basil', 'Garlic', 'Olive Oil']\",\n          \"['Chicken', 'Fettuccine', 'Alfredo Sauce', 'Parmesan']\",\n          \"['confidential']\"\n        ],\n        \"semantic_type\": \"\",\n        \"description\": \"\"\n      }\n    },\n    {\n      \"column\": \"Price\",\n      \"properties\": {\n        \"dtype\": \"number\",\n        \"std\": 7.4171300081269615,\n        \"min\": 2.01,\n        \"max\": 29.84,\n        \"num_unique_values\": 767,\n        \"samples\": [\n          8.48,\n          9.23,\n          14.86\n        ],\n        \"semantic_type\": \"\",\n        \"description\": \"\"\n      }\n    },\n    {\n      \"column\": \"Profitability\",\n      \"properties\": {\n        \"dtype\": \"category\",\n        \"num_unique_values\": 3,\n        \"samples\": [\n          \"Low\",\n          \"Medium\",\n          \"High\"\n        ],\n        \"semantic_type\": \"\",\n        \"description\": \"\"\n      }\n    }\n  ]\n}"
            }
          },
          "metadata": {},
          "execution_count": 2
        }
      ],
      "source": [
        "# Import necessary libraries\n",
        "import pandas as pd\n",
        "import matplotlib.pyplot as plt\n",
        "import seaborn as sns\n",
        "\n",
        "# Load the dataset\n",
        "df = pd.read_csv('/content/restaurant_menu_optimization_data.csv')\n",
        "# Display the first few rows of the dataset\n",
        "df.head()"
      ]
    },
    {
      "cell_type": "code",
      "source": [
        "# Display the first few rows of the dataset\n",
        "df.head()"
      ],
      "metadata": {
        "id": "E5PllddHiXWj",
        "colab": {
          "base_uri": "https://localhost:8080/",
          "height": 206
        },
        "outputId": "dd77bb6b-86d4-4e9a-c9b4-daeeb94284ca"
      },
      "execution_count": 3,
      "outputs": [
        {
          "output_type": "execute_result",
          "data": {
            "text/plain": [
              "  RestaurantID MenuCategory               MenuItem  \\\n",
              "0         R003    Beverages                   Soda   \n",
              "1         R001   Appetizers  Spinach Artichoke Dip   \n",
              "2         R003     Desserts    New York Cheesecake   \n",
              "3         R003  Main Course        Chicken Alfredo   \n",
              "4         R002  Main Course          Grilled Steak   \n",
              "\n",
              "                                         Ingredients  Price Profitability  \n",
              "0                                   ['confidential']   2.55           Low  \n",
              "1       ['Tomatoes', 'Basil', 'Garlic', 'Olive Oil']  11.12        Medium  \n",
              "2           ['Chocolate', 'Butter', 'Sugar', 'Eggs']  18.66          High  \n",
              "3  ['Chicken', 'Fettuccine', 'Alfredo Sauce', 'Pa...  29.55          High  \n",
              "4  ['Chicken', 'Fettuccine', 'Alfredo Sauce', 'Pa...  17.73        Medium  "
            ],
            "text/html": [
              "\n",
              "  <div id=\"df-a3bceae3-47a9-4a60-88ca-5f8db68ac6e4\" class=\"colab-df-container\">\n",
              "    <div>\n",
              "<style scoped>\n",
              "    .dataframe tbody tr th:only-of-type {\n",
              "        vertical-align: middle;\n",
              "    }\n",
              "\n",
              "    .dataframe tbody tr th {\n",
              "        vertical-align: top;\n",
              "    }\n",
              "\n",
              "    .dataframe thead th {\n",
              "        text-align: right;\n",
              "    }\n",
              "</style>\n",
              "<table border=\"1\" class=\"dataframe\">\n",
              "  <thead>\n",
              "    <tr style=\"text-align: right;\">\n",
              "      <th></th>\n",
              "      <th>RestaurantID</th>\n",
              "      <th>MenuCategory</th>\n",
              "      <th>MenuItem</th>\n",
              "      <th>Ingredients</th>\n",
              "      <th>Price</th>\n",
              "      <th>Profitability</th>\n",
              "    </tr>\n",
              "  </thead>\n",
              "  <tbody>\n",
              "    <tr>\n",
              "      <th>0</th>\n",
              "      <td>R003</td>\n",
              "      <td>Beverages</td>\n",
              "      <td>Soda</td>\n",
              "      <td>['confidential']</td>\n",
              "      <td>2.55</td>\n",
              "      <td>Low</td>\n",
              "    </tr>\n",
              "    <tr>\n",
              "      <th>1</th>\n",
              "      <td>R001</td>\n",
              "      <td>Appetizers</td>\n",
              "      <td>Spinach Artichoke Dip</td>\n",
              "      <td>['Tomatoes', 'Basil', 'Garlic', 'Olive Oil']</td>\n",
              "      <td>11.12</td>\n",
              "      <td>Medium</td>\n",
              "    </tr>\n",
              "    <tr>\n",
              "      <th>2</th>\n",
              "      <td>R003</td>\n",
              "      <td>Desserts</td>\n",
              "      <td>New York Cheesecake</td>\n",
              "      <td>['Chocolate', 'Butter', 'Sugar', 'Eggs']</td>\n",
              "      <td>18.66</td>\n",
              "      <td>High</td>\n",
              "    </tr>\n",
              "    <tr>\n",
              "      <th>3</th>\n",
              "      <td>R003</td>\n",
              "      <td>Main Course</td>\n",
              "      <td>Chicken Alfredo</td>\n",
              "      <td>['Chicken', 'Fettuccine', 'Alfredo Sauce', 'Pa...</td>\n",
              "      <td>29.55</td>\n",
              "      <td>High</td>\n",
              "    </tr>\n",
              "    <tr>\n",
              "      <th>4</th>\n",
              "      <td>R002</td>\n",
              "      <td>Main Course</td>\n",
              "      <td>Grilled Steak</td>\n",
              "      <td>['Chicken', 'Fettuccine', 'Alfredo Sauce', 'Pa...</td>\n",
              "      <td>17.73</td>\n",
              "      <td>Medium</td>\n",
              "    </tr>\n",
              "  </tbody>\n",
              "</table>\n",
              "</div>\n",
              "    <div class=\"colab-df-buttons\">\n",
              "\n",
              "  <div class=\"colab-df-container\">\n",
              "    <button class=\"colab-df-convert\" onclick=\"convertToInteractive('df-a3bceae3-47a9-4a60-88ca-5f8db68ac6e4')\"\n",
              "            title=\"Convert this dataframe to an interactive table.\"\n",
              "            style=\"display:none;\">\n",
              "\n",
              "  <svg xmlns=\"http://www.w3.org/2000/svg\" height=\"24px\" viewBox=\"0 -960 960 960\">\n",
              "    <path d=\"M120-120v-720h720v720H120Zm60-500h600v-160H180v160Zm220 220h160v-160H400v160Zm0 220h160v-160H400v160ZM180-400h160v-160H180v160Zm440 0h160v-160H620v160ZM180-180h160v-160H180v160Zm440 0h160v-160H620v160Z\"/>\n",
              "  </svg>\n",
              "    </button>\n",
              "\n",
              "  <style>\n",
              "    .colab-df-container {\n",
              "      display:flex;\n",
              "      gap: 12px;\n",
              "    }\n",
              "\n",
              "    .colab-df-convert {\n",
              "      background-color: #E8F0FE;\n",
              "      border: none;\n",
              "      border-radius: 50%;\n",
              "      cursor: pointer;\n",
              "      display: none;\n",
              "      fill: #1967D2;\n",
              "      height: 32px;\n",
              "      padding: 0 0 0 0;\n",
              "      width: 32px;\n",
              "    }\n",
              "\n",
              "    .colab-df-convert:hover {\n",
              "      background-color: #E2EBFA;\n",
              "      box-shadow: 0px 1px 2px rgba(60, 64, 67, 0.3), 0px 1px 3px 1px rgba(60, 64, 67, 0.15);\n",
              "      fill: #174EA6;\n",
              "    }\n",
              "\n",
              "    .colab-df-buttons div {\n",
              "      margin-bottom: 4px;\n",
              "    }\n",
              "\n",
              "    [theme=dark] .colab-df-convert {\n",
              "      background-color: #3B4455;\n",
              "      fill: #D2E3FC;\n",
              "    }\n",
              "\n",
              "    [theme=dark] .colab-df-convert:hover {\n",
              "      background-color: #434B5C;\n",
              "      box-shadow: 0px 1px 3px 1px rgba(0, 0, 0, 0.15);\n",
              "      filter: drop-shadow(0px 1px 2px rgba(0, 0, 0, 0.3));\n",
              "      fill: #FFFFFF;\n",
              "    }\n",
              "  </style>\n",
              "\n",
              "    <script>\n",
              "      const buttonEl =\n",
              "        document.querySelector('#df-a3bceae3-47a9-4a60-88ca-5f8db68ac6e4 button.colab-df-convert');\n",
              "      buttonEl.style.display =\n",
              "        google.colab.kernel.accessAllowed ? 'block' : 'none';\n",
              "\n",
              "      async function convertToInteractive(key) {\n",
              "        const element = document.querySelector('#df-a3bceae3-47a9-4a60-88ca-5f8db68ac6e4');\n",
              "        const dataTable =\n",
              "          await google.colab.kernel.invokeFunction('convertToInteractive',\n",
              "                                                    [key], {});\n",
              "        if (!dataTable) return;\n",
              "\n",
              "        const docLinkHtml = 'Like what you see? Visit the ' +\n",
              "          '<a target=\"_blank\" href=https://colab.research.google.com/notebooks/data_table.ipynb>data table notebook</a>'\n",
              "          + ' to learn more about interactive tables.';\n",
              "        element.innerHTML = '';\n",
              "        dataTable['output_type'] = 'display_data';\n",
              "        await google.colab.output.renderOutput(dataTable, element);\n",
              "        const docLink = document.createElement('div');\n",
              "        docLink.innerHTML = docLinkHtml;\n",
              "        element.appendChild(docLink);\n",
              "      }\n",
              "    </script>\n",
              "  </div>\n",
              "\n",
              "\n",
              "<div id=\"df-b92fa5ec-51e6-4c9a-9eb6-9a83d70dcf7d\">\n",
              "  <button class=\"colab-df-quickchart\" onclick=\"quickchart('df-b92fa5ec-51e6-4c9a-9eb6-9a83d70dcf7d')\"\n",
              "            title=\"Suggest charts\"\n",
              "            style=\"display:none;\">\n",
              "\n",
              "<svg xmlns=\"http://www.w3.org/2000/svg\" height=\"24px\"viewBox=\"0 0 24 24\"\n",
              "     width=\"24px\">\n",
              "    <g>\n",
              "        <path d=\"M19 3H5c-1.1 0-2 .9-2 2v14c0 1.1.9 2 2 2h14c1.1 0 2-.9 2-2V5c0-1.1-.9-2-2-2zM9 17H7v-7h2v7zm4 0h-2V7h2v10zm4 0h-2v-4h2v4z\"/>\n",
              "    </g>\n",
              "</svg>\n",
              "  </button>\n",
              "\n",
              "<style>\n",
              "  .colab-df-quickchart {\n",
              "      --bg-color: #E8F0FE;\n",
              "      --fill-color: #1967D2;\n",
              "      --hover-bg-color: #E2EBFA;\n",
              "      --hover-fill-color: #174EA6;\n",
              "      --disabled-fill-color: #AAA;\n",
              "      --disabled-bg-color: #DDD;\n",
              "  }\n",
              "\n",
              "  [theme=dark] .colab-df-quickchart {\n",
              "      --bg-color: #3B4455;\n",
              "      --fill-color: #D2E3FC;\n",
              "      --hover-bg-color: #434B5C;\n",
              "      --hover-fill-color: #FFFFFF;\n",
              "      --disabled-bg-color: #3B4455;\n",
              "      --disabled-fill-color: #666;\n",
              "  }\n",
              "\n",
              "  .colab-df-quickchart {\n",
              "    background-color: var(--bg-color);\n",
              "    border: none;\n",
              "    border-radius: 50%;\n",
              "    cursor: pointer;\n",
              "    display: none;\n",
              "    fill: var(--fill-color);\n",
              "    height: 32px;\n",
              "    padding: 0;\n",
              "    width: 32px;\n",
              "  }\n",
              "\n",
              "  .colab-df-quickchart:hover {\n",
              "    background-color: var(--hover-bg-color);\n",
              "    box-shadow: 0 1px 2px rgba(60, 64, 67, 0.3), 0 1px 3px 1px rgba(60, 64, 67, 0.15);\n",
              "    fill: var(--button-hover-fill-color);\n",
              "  }\n",
              "\n",
              "  .colab-df-quickchart-complete:disabled,\n",
              "  .colab-df-quickchart-complete:disabled:hover {\n",
              "    background-color: var(--disabled-bg-color);\n",
              "    fill: var(--disabled-fill-color);\n",
              "    box-shadow: none;\n",
              "  }\n",
              "\n",
              "  .colab-df-spinner {\n",
              "    border: 2px solid var(--fill-color);\n",
              "    border-color: transparent;\n",
              "    border-bottom-color: var(--fill-color);\n",
              "    animation:\n",
              "      spin 1s steps(1) infinite;\n",
              "  }\n",
              "\n",
              "  @keyframes spin {\n",
              "    0% {\n",
              "      border-color: transparent;\n",
              "      border-bottom-color: var(--fill-color);\n",
              "      border-left-color: var(--fill-color);\n",
              "    }\n",
              "    20% {\n",
              "      border-color: transparent;\n",
              "      border-left-color: var(--fill-color);\n",
              "      border-top-color: var(--fill-color);\n",
              "    }\n",
              "    30% {\n",
              "      border-color: transparent;\n",
              "      border-left-color: var(--fill-color);\n",
              "      border-top-color: var(--fill-color);\n",
              "      border-right-color: var(--fill-color);\n",
              "    }\n",
              "    40% {\n",
              "      border-color: transparent;\n",
              "      border-right-color: var(--fill-color);\n",
              "      border-top-color: var(--fill-color);\n",
              "    }\n",
              "    60% {\n",
              "      border-color: transparent;\n",
              "      border-right-color: var(--fill-color);\n",
              "    }\n",
              "    80% {\n",
              "      border-color: transparent;\n",
              "      border-right-color: var(--fill-color);\n",
              "      border-bottom-color: var(--fill-color);\n",
              "    }\n",
              "    90% {\n",
              "      border-color: transparent;\n",
              "      border-bottom-color: var(--fill-color);\n",
              "    }\n",
              "  }\n",
              "</style>\n",
              "\n",
              "  <script>\n",
              "    async function quickchart(key) {\n",
              "      const quickchartButtonEl =\n",
              "        document.querySelector('#' + key + ' button');\n",
              "      quickchartButtonEl.disabled = true;  // To prevent multiple clicks.\n",
              "      quickchartButtonEl.classList.add('colab-df-spinner');\n",
              "      try {\n",
              "        const charts = await google.colab.kernel.invokeFunction(\n",
              "            'suggestCharts', [key], {});\n",
              "      } catch (error) {\n",
              "        console.error('Error during call to suggestCharts:', error);\n",
              "      }\n",
              "      quickchartButtonEl.classList.remove('colab-df-spinner');\n",
              "      quickchartButtonEl.classList.add('colab-df-quickchart-complete');\n",
              "    }\n",
              "    (() => {\n",
              "      let quickchartButtonEl =\n",
              "        document.querySelector('#df-b92fa5ec-51e6-4c9a-9eb6-9a83d70dcf7d button');\n",
              "      quickchartButtonEl.style.display =\n",
              "        google.colab.kernel.accessAllowed ? 'block' : 'none';\n",
              "    })();\n",
              "  </script>\n",
              "</div>\n",
              "\n",
              "    </div>\n",
              "  </div>\n"
            ],
            "application/vnd.google.colaboratory.intrinsic+json": {
              "type": "dataframe",
              "variable_name": "df",
              "summary": "{\n  \"name\": \"df\",\n  \"rows\": 1000,\n  \"fields\": [\n    {\n      \"column\": \"RestaurantID\",\n      \"properties\": {\n        \"dtype\": \"category\",\n        \"num_unique_values\": 3,\n        \"samples\": [\n          \"R003\",\n          \"R001\",\n          \"R002\"\n        ],\n        \"semantic_type\": \"\",\n        \"description\": \"\"\n      }\n    },\n    {\n      \"column\": \"MenuCategory\",\n      \"properties\": {\n        \"dtype\": \"category\",\n        \"num_unique_values\": 4,\n        \"samples\": [\n          \"Appetizers\",\n          \"Main Course\",\n          \"Beverages\"\n        ],\n        \"semantic_type\": \"\",\n        \"description\": \"\"\n      }\n    },\n    {\n      \"column\": \"MenuItem\",\n      \"properties\": {\n        \"dtype\": \"category\",\n        \"num_unique_values\": 16,\n        \"samples\": [\n          \"Soda\",\n          \"Spinach Artichoke Dip\",\n          \"Stuffed Mushrooms\"\n        ],\n        \"semantic_type\": \"\",\n        \"description\": \"\"\n      }\n    },\n    {\n      \"column\": \"Ingredients\",\n      \"properties\": {\n        \"dtype\": \"category\",\n        \"num_unique_values\": 4,\n        \"samples\": [\n          \"['Tomatoes', 'Basil', 'Garlic', 'Olive Oil']\",\n          \"['Chicken', 'Fettuccine', 'Alfredo Sauce', 'Parmesan']\",\n          \"['confidential']\"\n        ],\n        \"semantic_type\": \"\",\n        \"description\": \"\"\n      }\n    },\n    {\n      \"column\": \"Price\",\n      \"properties\": {\n        \"dtype\": \"number\",\n        \"std\": 7.4171300081269615,\n        \"min\": 2.01,\n        \"max\": 29.84,\n        \"num_unique_values\": 767,\n        \"samples\": [\n          8.48,\n          9.23,\n          14.86\n        ],\n        \"semantic_type\": \"\",\n        \"description\": \"\"\n      }\n    },\n    {\n      \"column\": \"Profitability\",\n      \"properties\": {\n        \"dtype\": \"category\",\n        \"num_unique_values\": 3,\n        \"samples\": [\n          \"Low\",\n          \"Medium\",\n          \"High\"\n        ],\n        \"semantic_type\": \"\",\n        \"description\": \"\"\n      }\n    }\n  ]\n}"
            }
          },
          "metadata": {},
          "execution_count": 3
        }
      ]
    },
    {
      "cell_type": "code",
      "source": [
        "# Summary statistics of the dataset\n",
        "print(df.describe())"
      ],
      "metadata": {
        "id": "r5KRhF4piZiz",
        "colab": {
          "base_uri": "https://localhost:8080/"
        },
        "outputId": "1e718660-8c56-4662-fc6e-43e41d0b48e0"
      },
      "execution_count": 4,
      "outputs": [
        {
          "output_type": "stream",
          "name": "stdout",
          "text": [
            "            Price\n",
            "count  1000.00000\n",
            "mean     12.81801\n",
            "std       7.41713\n",
            "min       2.01000\n",
            "25%       4.86750\n",
            "50%      12.53500\n",
            "75%      17.69000\n",
            "max      29.84000\n"
          ]
        }
      ]
    },
    {
      "cell_type": "code",
      "source": [
        "# Check for missing values\n",
        "print(df.isnull().sum())"
      ],
      "metadata": {
        "id": "k1lLA6A4icRy",
        "colab": {
          "base_uri": "https://localhost:8080/"
        },
        "outputId": "f3c8a7b1-2879-4123-d2c9-ee5a61fe82c1"
      },
      "execution_count": 5,
      "outputs": [
        {
          "output_type": "stream",
          "name": "stdout",
          "text": [
            "RestaurantID     0\n",
            "MenuCategory     0\n",
            "MenuItem         0\n",
            "Ingredients      0\n",
            "Price            0\n",
            "Profitability    0\n",
            "dtype: int64\n"
          ]
        }
      ]
    },
    {
      "cell_type": "code",
      "source": [
        "plt.boxplot(df['Price'])\n",
        "plt.xlabel('Harga')\n",
        "plt.title('Boxplot Harga Menu')\n",
        "plt.show()"
      ],
      "metadata": {
        "colab": {
          "base_uri": "https://localhost:8080/",
          "height": 472
        },
        "id": "4q0PiC3Xwh31",
        "outputId": "1fbbadc4-70e2-4e21-874c-892b971b37ae"
      },
      "execution_count": 6,
      "outputs": [
        {
          "output_type": "display_data",
          "data": {
            "text/plain": [
              "<Figure size 640x480 with 1 Axes>"
            ],
            "image/png": "[encoded data removed]"
          },
          "metadata": {}
        }
      ]
    },
    {
      "cell_type": "code",
      "source": [
        "# Distribution of the target variable\n",
        "plt.figure(figsize=(8, 6))\n",
        "sns.countplot(data=df, x='Profitability')\n",
        "plt.title('Distribution of Profitability')\n",
        "plt.show()"
      ],
      "metadata": {
        "id": "rz-moHKwienS",
        "colab": {
          "base_uri": "https://localhost:8080/",
          "height": 564
        },
        "outputId": "8ac85c6a-8b97-42ce-cf65-75c91c7746d0"
      },
      "execution_count": null,
      "outputs": [
        {
          "output_type": "display_data",
          "data": {
            "text/plain": [
              "<Figure size 800x600 with 1 Axes>"
            ],
            "image/png": "[encoded data removed]"
          },
          "metadata": {}
        }
      ]
    },
    {
      "cell_type": "code",
      "source": [
        "# Distribution of prices\n",
        "plt.figure(figsize=(8, 6))\n",
        "sns.histplot(df['Price'], bins=20)\n",
        "plt.title('Distribution of Prices')\n",
        "plt.show()"
      ],
      "metadata": {
        "id": "ypznKW9_ijDO",
        "colab": {
          "base_uri": "https://localhost:8080/",
          "height": 564
        },
        "outputId": "c5389d4d-3df7-411c-a79b-0121a1b23996"
      },
      "execution_count": null,
      "outputs": [
        {
          "output_type": "display_data",
          "data": {
            "text/plain": [
              "<Figure size 800x600 with 1 Axes>"
            ],
            "image/png": "[encoded data removed]"
          },
          "metadata": {}
        }
      ]
    },
    {
      "cell_type": "code",
      "source": [
        "# Separates categorical data from df\n",
        "obj_data = df.select_dtypes('object')\n",
        "obj_data.head()\n",
        "\n",
        "data = obj_data['MenuItem'].value_counts(ascending = True).head(10)\n",
        "plt.barh(data.index , data.values , height = 0.4)\n",
        "plt.title('daftar menu dengan penjualan terbanyak ')\n",
        "plt.show()"
      ],
      "metadata": {
        "colab": {
          "base_uri": "https://localhost:8080/",
          "height": 452
        },
        "id": "FGtQQeLjxjco",
        "outputId": "6c8cd521-c21e-440a-cce8-5eae237775d7"
      },
      "execution_count": 7,
      "outputs": [
        {
          "output_type": "display_data",
          "data": {
            "text/plain": [
              "<Figure size 640x480 with 1 Axes>"
            ],
            "image/png": "[encoded data removed]"
          },
          "metadata": {}
        }
      ]
    },
    {
      "cell_type": "code",
      "source": [
        "# Boxplot of prices by profitability\n",
        "plt.figure(figsize=(10, 8))\n",
        "sns.boxplot(data=df, x='Profitability', y='Price')\n",
        "plt.title('Boxplot of Prices by Profitability')\n",
        "plt.show()"
      ],
      "metadata": {
        "id": "NIiAiRB2ilzs",
        "colab": {
          "base_uri": "https://localhost:8080/",
          "height": 718
        },
        "outputId": "f4a0c19c-d40d-4373-8542-30b68084a65a"
      },
      "execution_count": null,
      "outputs": [
        {
          "output_type": "display_data",
          "data": {
            "text/plain": [
              "<Figure size 1000x800 with 1 Axes>"
            ],
            "image/png": "[encoded data removed]"
          },
          "metadata": {}
        }
      ]
    },
    {
      "cell_type": "code",
      "source": [
        "# Count of menu items by category\n",
        "plt.figure(figsize=(12, 8))\n",
        "sns.countplot(data=df, x='MenuCategory', order=df['MenuCategory'].value_counts().index)\n",
        "plt.title('Count of Menu Items by Category')\n",
        "plt.xticks(rotation=45)\n",
        "plt.show()"
      ],
      "metadata": {
        "id": "6-9AnMMHioV-",
        "colab": {
          "base_uri": "https://localhost:8080/",
          "height": 775
        },
        "outputId": "d0adc1a0-edb8-4319-fece-030a174907b3"
      },
      "execution_count": null,
      "outputs": [
        {
          "output_type": "display_data",
          "data": {
            "text/plain": [
              "<Figure size 1200x800 with 1 Axes>"
            ],
            "image/png": "[encoded data removed]"
          },
          "metadata": {}
        }
      ]
    },
    {
      "cell_type": "markdown",
      "source": [
        "# **Data Preprocessing**"
      ],
      "metadata": {
        "id": "KR5-L_SaisYR"
      }
    },
    {
      "cell_type": "code",
      "source": [
        "from sklearn.preprocessing import LabelEncoder, StandardScaler\n",
        "from sklearn.model_selection import train_test_split\n",
        "\n",
        "# Drop rows with missing values\n",
        "df.dropna(inplace=True)\n",
        "\n",
        "# Encode categorical variables\n",
        "le_profitability = LabelEncoder()\n",
        "df['Profitability'] = le_profitability.fit_transform(df['Profitability'])\n",
        "\n",
        "le_menu_category = LabelEncoder()\n",
        "df['MenuCategory'] = le_menu_category.fit_transform(df['MenuCategory'])\n",
        "\n",
        "# Drop unnecessary columns\n",
        "df.drop(['RestaurantID', 'MenuItem', 'Ingredients'], axis=1, inplace=True)\n",
        "\n",
        "# Split the dataset into features and target variable\n",
        "X = df.drop('Profitability', axis=1)\n",
        "y = df['Profitability']\n",
        "\n",
        "# Scale numerical features\n",
        "scaler = StandardScaler()\n",
        "X_scaled = scaler.fit_transform(X)\n",
        "\n",
        "# Split the dataset into training and testing sets\n",
        "X_train, X_test, y_train, y_test = train_test_split(X_scaled, y, test_size=0.2, random_state=42)\n",
        "\n",
        "print(\"Data preprocessing complete.\")"
      ],
      "metadata": {
        "id": "buuPGubeiqUS",
        "colab": {
          "base_uri": "https://localhost:8080/"
        },
        "outputId": "9aa1e69a-b10b-4746-f994-5a40dca7a576"
      },
      "execution_count": 8,
      "outputs": [
        {
          "output_type": "stream",
          "name": "stdout",
          "text": [
            "Data preprocessing complete.\n"
          ]
        }
      ]
    },
    {
      "cell_type": "markdown",
      "source": [
        "# **Model Training and Comparison**"
      ],
      "metadata": {
        "id": "1hc_aPv_i1UU"
      }
    },
    {
      "cell_type": "code",
      "source": [
        "from sklearn.linear_model import LogisticRegression\n",
        "from sklearn.tree import DecisionTreeClassifier\n",
        "from sklearn.ensemble import RandomForestClassifier\n",
        "from sklearn.metrics import accuracy_score, precision_score, recall_score, f1_score, classification_report\n",
        "from sklearn.model_selection import cross_val_score"
      ],
      "metadata": {
        "id": "hzvwSn7Giy-d"
      },
      "execution_count": 9,
      "outputs": []
    },
    {
      "cell_type": "code",
      "source": [
        "# Train and evaluate Logistic Regression\n",
        "lr = LogisticRegression()\n",
        "lr.fit(X_train, y_train)\n",
        "y_pred_lr = lr.predict(X_test)\n",
        "print(\"Logistic Regression Performance:\")\n",
        "print(classification_report(y_test, y_pred_lr))\n"
      ],
      "metadata": {
        "id": "_8bmm3BFi_RG",
        "colab": {
          "base_uri": "https://localhost:8080/"
        },
        "outputId": "55a9ff50-fc6c-4a21-df67-243f27e6e5fe"
      },
      "execution_count": 10,
      "outputs": [
        {
          "output_type": "stream",
          "name": "stdout",
          "text": [
            "Logistic Regression Performance:\n",
            "              precision    recall  f1-score   support\n",
            "\n",
            "           0       0.84      0.87      0.85        77\n",
            "           1       0.00      0.00      0.00        25\n",
            "           2       0.75      0.92      0.83        98\n",
            "\n",
            "    accuracy                           0.79       200\n",
            "   macro avg       0.53      0.60      0.56       200\n",
            "weighted avg       0.69      0.79      0.73       200\n",
            "\n"
          ]
        },
        {
          "output_type": "stream",
          "name": "stderr",
          "text": [
            "/usr/local/lib/python3.10/dist-packages/sklearn/metrics/_classification.py:1344: UndefinedMetricWarning: Precision and F-score are ill-defined and being set to 0.0 in labels with no predicted samples. Use `zero_division` parameter to control this behavior.\n",
            "  _warn_prf(average, modifier, msg_start, len(result))\n",
            "/usr/local/lib/python3.10/dist-packages/sklearn/metrics/_classification.py:1344: UndefinedMetricWarning: Precision and F-score are ill-defined and being set to 0.0 in labels with no predicted samples. Use `zero_division` parameter to control this behavior.\n",
            "  _warn_prf(average, modifier, msg_start, len(result))\n",
            "/usr/local/lib/python3.10/dist-packages/sklearn/metrics/_classification.py:1344: UndefinedMetricWarning: Precision and F-score are ill-defined and being set to 0.0 in labels with no predicted samples. Use `zero_division` parameter to control this behavior.\n",
            "  _warn_prf(average, modifier, msg_start, len(result))\n"
          ]
        }
      ]
    },
    {
      "cell_type": "code",
      "source": [
        "# Train and evaluate Decision Tree\n",
        "dt = DecisionTreeClassifier()\n",
        "dt.fit(X_train, y_train)\n",
        "y_pred_dt = dt.predict(X_test)\n",
        "print(\"Decision Tree Performance:\")\n",
        "print(classification_report(y_test, y_pred_dt))"
      ],
      "metadata": {
        "id": "DDguTdBzjBuD",
        "colab": {
          "base_uri": "https://localhost:8080/"
        },
        "outputId": "0bf91204-39b4-4314-8f8d-8b60f02744b4"
      },
      "execution_count": 11,
      "outputs": [
        {
          "output_type": "stream",
          "name": "stdout",
          "text": [
            "Decision Tree Performance:\n",
            "              precision    recall  f1-score   support\n",
            "\n",
            "           0       0.83      0.87      0.85        77\n",
            "           1       0.60      0.48      0.53        25\n",
            "           2       0.86      0.87      0.86        98\n",
            "\n",
            "    accuracy                           0.82       200\n",
            "   macro avg       0.76      0.74      0.75       200\n",
            "weighted avg       0.81      0.82      0.82       200\n",
            "\n"
          ]
        }
      ]
    },
    {
      "cell_type": "code",
      "source": [
        "# Train and evaluate Random Forest\n",
        "rf = RandomForestClassifier()\n",
        "rf.fit(X_train, y_train)\n",
        "y_pred_rf = rf.predict(X_test)\n",
        "print(\"Random Forest Performance:\")\n",
        "print(classification_report(y_test, y_pred_rf))"
      ],
      "metadata": {
        "id": "kOUWEgKtjEfV",
        "colab": {
          "base_uri": "https://localhost:8080/"
        },
        "outputId": "597d72c5-3062-4b36-f1e1-2b3b1bbafd3b"
      },
      "execution_count": 12,
      "outputs": [
        {
          "output_type": "stream",
          "name": "stdout",
          "text": [
            "Random Forest Performance:\n",
            "              precision    recall  f1-score   support\n",
            "\n",
            "           0       0.87      0.87      0.87        77\n",
            "           1       0.68      0.52      0.59        25\n",
            "           2       0.87      0.92      0.89        98\n",
            "\n",
            "    accuracy                           0.85       200\n",
            "   macro avg       0.81      0.77      0.78       200\n",
            "weighted avg       0.84      0.85      0.85       200\n",
            "\n"
          ]
        }
      ]
    },
    {
      "cell_type": "code",
      "source": [
        "# Train and evaluate Logistic Regression\n",
        "lr = LogisticRegression()\n",
        "lr.fit(X_train, y_train)\n",
        "y_pred_lr = lr.predict(X_test)\n",
        "lr_accuracy = accuracy_score(y_test, y_pred_lr)\n",
        "lr_precision = precision_score(y_test, y_pred_lr, average='weighted')\n",
        "lr_recall = recall_score(y_test, y_pred_lr, average='weighted')\n",
        "lr_f1 = f1_score(y_test, y_pred_lr, average='weighted')\n",
        "\n",
        "# Train and evaluate Decision Tree\n",
        "dt = DecisionTreeClassifier()\n",
        "dt.fit(X_train, y_train)\n",
        "y_pred_dt = dt.predict(X_test)\n",
        "dt_accuracy = accuracy_score(y_test, y_pred_dt)\n",
        "dt_precision = precision_score(y_test, y_pred_dt, average='weighted')\n",
        "dt_recall = recall_score(y_test, y_pred_dt, average='weighted')\n",
        "dt_f1 = f1_score(y_test, y_pred_dt, average='weighted')\n",
        "\n",
        "# Train and evaluate Random Forest\n",
        "rf = RandomForestClassifier()\n",
        "rf.fit(X_train, y_train)\n",
        "y_pred_rf = rf.predict(X_test)\n",
        "rf_accuracy = accuracy_score(y_test, y_pred_rf)\n",
        "rf_precision = precision_score(y_test, y_pred_rf, average='weighted')\n",
        "rf_recall = recall_score(y_test, y_pred_rf, average='weighted')\n",
        "rf_f1 = f1_score(y_test, y_pred_rf, average='weighted')\n",
        "\n",
        "# Visualisasi perbandingan kinerja model\n",
        "metrics = ['Accuracy', 'Precision', 'Recall', 'F1-score']\n",
        "lr_scores = [lr_accuracy, lr_precision, lr_recall, lr_f1]\n",
        "dt_scores = [dt_accuracy, dt_precision, dt_recall, dt_f1]\n",
        "rf_scores = [rf_accuracy, rf_precision, rf_recall, rf_f1]\n",
        "\n",
        "x = range(len(metrics))\n",
        "\n",
        "plt.figure(figsize=(14, 8))\n",
        "plt.bar(x, lr_scores, width=0.2, label='Logistic Regression', align='center')\n",
        "plt.bar([p + 0.2 for p in x], dt_scores, width=0.2, label='Decision Tree', align='center')\n",
        "plt.bar([p + 0.4 for p in x], rf_scores, width=0.2, label='Random Forest', align='center')\n",
        "\n",
        "plt.xlabel('Metrics', fontsize=14)\n",
        "plt.ylabel('Scores', fontsize=14)\n",
        "plt.title('Model Performance Comparison Before Hyperparameter Tuning', fontsize=16)\n",
        "plt.xticks([p + 0.2 for p in x], metrics)\n",
        "plt.legend()\n",
        "plt.grid(axis='y')\n",
        "\n",
        "plt.show()\n"
      ],
      "metadata": {
        "colab": {
          "base_uri": "https://localhost:8080/",
          "height": 783
        },
        "id": "m7_pI_eoy0e0",
        "outputId": "2eff8b6a-826d-4ea7-c6bf-827db577469d"
      },
      "execution_count": 14,
      "outputs": [
        {
          "output_type": "stream",
          "name": "stderr",
          "text": [
            "/usr/local/lib/python3.10/dist-packages/sklearn/metrics/_classification.py:1344: UndefinedMetricWarning: Precision is ill-defined and being set to 0.0 in labels with no predicted samples. Use `zero_division` parameter to control this behavior.\n",
            "  _warn_prf(average, modifier, msg_start, len(result))\n"
          ]
        },
        {
          "output_type": "display_data",
          "data": {
            "text/plain": [
              "<Figure size 1400x800 with 1 Axes>"
            ],
            "image/png": "[encoded data removed]"
          },
          "metadata": {}
        }
      ]
    },
    {
      "cell_type": "code",
      "source": [
        "from sklearn.preprocessing import LabelEncoder\n",
        "from sklearn.model_selection import train_test_split, GridSearchCV, cross_val_score\n",
        "from sklearn.tree import DecisionTreeClassifier\n",
        "from sklearn.ensemble import RandomForestClassifier\n",
        "from sklearn.metrics import accuracy_score, precision_score, recall_score, f1_score, classification_report"
      ],
      "metadata": {
        "id": "Kkxupwtt0oPD"
      },
      "execution_count": 17,
      "outputs": []
    },
    {
      "cell_type": "code",
      "source": [
        "# Cross-validation to validate the performance\n",
        "cv_scores_lr = cross_val_score(lr, X_scaled, y, cv=5, scoring='accuracy')\n",
        "cv_scores_dt = cross_val_score(dt, X_scaled, y, cv=5, scoring='accuracy')\n",
        "cv_scores_rf = cross_val_score(rf, X_scaled, y, cv=5, scoring='accuracy')"
      ],
      "metadata": {
        "id": "boKKACiTjG7t"
      },
      "execution_count": null,
      "outputs": []
    },
    {
      "cell_type": "code",
      "source": [
        "print(f\"Logistic Regression CV Accuracy: {cv_scores_lr.mean()}\")\n",
        "print(f\"Decision Tree CV Accuracy: {cv_scores_dt.mean()}\")\n",
        "print(f\"Random Forest CV Accuracy: {cv_scores_rf.mean()}\")"
      ],
      "metadata": {
        "id": "rDIQ1fqtjJAp",
        "colab": {
          "base_uri": "https://localhost:8080/"
        },
        "outputId": "847c769d-95a4-481c-ffb9-81512f293505"
      },
      "execution_count": null,
      "outputs": [
        {
          "output_type": "stream",
          "name": "stdout",
          "text": [
            "Logistic Regression CV Accuracy: 0.794\n",
            "Decision Tree CV Accuracy: 0.85\n",
            "Random Forest CV Accuracy: 0.875\n"
          ]
        }
      ]
    },
    {
      "cell_type": "markdown",
      "source": [
        "# **Evaluation**"
      ],
      "metadata": {
        "id": "NPlMemJHjLpr"
      }
    },
    {
      "cell_type": "code",
      "source": [
        "# Define the parameter grid for Logistic Regression\n",
        "param_grid_lr = {\n",
        "    'C': [0.1, 1, 10, 100],\n",
        "    'solver': ['liblinear', 'lbfgs'],\n",
        "    'max_iter': [100, 200, 300]\n",
        "}\n",
        "\n",
        "# Initialize the GridSearchCV object\n",
        "grid_lr = GridSearchCV(LogisticRegression(), param_grid_lr, cv=5, scoring='accuracy')\n",
        "grid_lr.fit(X_train, y_train)\n",
        "\n",
        "# Best parameters and score\n",
        "print(\"Best parameters for Logistic Regression:\", grid_lr.best_params_)\n",
        "print(\"Best score for Logistic Regression:\", grid_lr.best_score_)"
      ],
      "metadata": {
        "colab": {
          "base_uri": "https://localhost:8080/"
        },
        "id": "nKRCV22s-eMc",
        "outputId": "9841c4da-3df7-4244-e911-b249792e5524"
      },
      "execution_count": 23,
      "outputs": [
        {
          "output_type": "stream",
          "name": "stdout",
          "text": [
            "Best parameters for Logistic Regression: {'C': 0.1, 'max_iter': 100, 'solver': 'liblinear'}\n",
            "Best score for Logistic Regression: 0.8\n"
          ]
        }
      ]
    },
    {
      "cell_type": "code",
      "source": [
        "# Define the parameter grid for Decision Tree\n",
        "param_grid_dt = {\n",
        "    'criterion': ['gini', 'entropy'],\n",
        "    'max_depth': [None, 10, 20, 30],\n",
        "    'min_samples_split': [2, 10, 20],\n",
        "    'min_samples_leaf': [1, 5, 10]\n",
        "}\n",
        "\n",
        "# Initialize the GridSearchCV object\n",
        "grid_dt = GridSearchCV(DecisionTreeClassifier(), param_grid_dt, cv=5, scoring='accuracy')\n",
        "grid_dt.fit(X_train, y_train)\n",
        "\n",
        "# Best parameters and score\n",
        "print(\"Best parameters for Decision Tree:\", grid_dt.best_params_)\n",
        "print(\"Best score for Decision Tree:\", grid_dt.best_score_)"
      ],
      "metadata": {
        "colab": {
          "base_uri": "https://localhost:8080/"
        },
        "id": "YRrdphlC-ioM",
        "outputId": "55b78168-05ab-4aaf-c4ca-b4bea19e1fc2"
      },
      "execution_count": 24,
      "outputs": [
        {
          "output_type": "stream",
          "name": "stdout",
          "text": [
            "Best parameters for Decision Tree: {'criterion': 'gini', 'max_depth': None, 'min_samples_leaf': 5, 'min_samples_split': 2}\n",
            "Best score for Decision Tree: 0.91875\n"
          ]
        }
      ]
    },
    {
      "cell_type": "code",
      "source": [
        "# Define the parameter grid for Random Forest\n",
        "param_grid_rf = {\n",
        "    'n_estimators': [50, 100, 200],\n",
        "    'max_depth': [None, 10, 20, 30],\n",
        "    'min_samples_split': [2, 10, 20],\n",
        "    'min_samples_leaf': [1, 5, 10]\n",
        "}\n",
        "\n",
        "# Initialize the GridSearchCV object\n",
        "grid_rf = GridSearchCV(RandomForestClassifier(), param_grid_rf, cv=5, scoring='accuracy')\n",
        "grid_rf.fit(X_train, y_train)\n",
        "\n",
        "# Best parameters and score\n",
        "print(\"Best parameters for Random Forest:\", grid_rf.best_params_)\n",
        "print(\"Best score for Random Forest:\", grid_rf.best_score_)"
      ],
      "metadata": {
        "id": "MCY8cmwdjLGP",
        "colab": {
          "base_uri": "https://localhost:8080/"
        },
        "outputId": "6d0826f3-5e3f-4311-bc62-3de3c3699d63"
      },
      "execution_count": 26,
      "outputs": [
        {
          "output_type": "stream",
          "name": "stdout",
          "text": [
            "Best parameters for Random Forest: {'max_depth': None, 'min_samples_leaf': 5, 'min_samples_split': 10, 'n_estimators': 100}\n",
            "Best score for Random Forest: 0.925\n"
          ]
        }
      ]
    },
    {
      "cell_type": "code",
      "source": [
        "# Retrain Logistic Regression with best hyperparameters\n",
        "best_lr = LogisticRegression(**grid_lr.best_params_)\n",
        "best_lr.fit(X_train, y_train)\n",
        "y_pred_best_lr = best_lr.predict(X_test)\n",
        "print(\"Best Logistic Regression Performance:\")\n",
        "print(classification_report(y_test, y_pred_best_lr))\n",
        "\n",
        "# Retrain Decision Tree with best hyperparameters\n",
        "best_dt = DecisionTreeClassifier(**grid_dt.best_params_)\n",
        "best_dt.fit(X_train, y_train)\n",
        "y_pred_best_dt = best_dt.predict(X_test)\n",
        "print(\"Best Decision Tree Performance:\")\n",
        "print(classification_report(y_test, y_pred_best_dt))\n",
        "\n",
        "# Retrain Random Forest with best hyperparameters\n",
        "best_rf = RandomForestClassifier(**grid_rf.best_params_)\n",
        "best_rf.fit(X_train, y_train)\n",
        "y_pred_best_rf = best_rf.predict(X_test)\n",
        "print(\"Best Random Forest Performance:\")\n",
        "print(classification_report(y_test, y_pred_best_rf))"
      ],
      "metadata": {
        "colab": {
          "base_uri": "https://localhost:8080/"
        },
        "id": "ZKa2cGB0L2VZ",
        "outputId": "5f70490c-c6f8-4983-cafe-5b77c3bfe7cb"
      },
      "execution_count": 27,
      "outputs": [
        {
          "output_type": "stream",
          "name": "stdout",
          "text": [
            "Best Logistic Regression Performance:\n",
            "              precision    recall  f1-score   support\n",
            "\n",
            "           0       0.79      0.91      0.84        77\n",
            "           1       0.00      0.00      0.00        25\n",
            "           2       0.76      0.86      0.80        98\n",
            "\n",
            "    accuracy                           0.77       200\n",
            "   macro avg       0.51      0.59      0.55       200\n",
            "weighted avg       0.67      0.77      0.72       200\n",
            "\n",
            "Best Decision Tree Performance:\n",
            "              precision    recall  f1-score   support\n",
            "\n",
            "           0       0.90      0.95      0.92        77\n",
            "           1       0.87      0.52      0.65        25\n",
            "           2       0.91      0.97      0.94        98\n",
            "\n",
            "    accuracy                           0.91       200\n",
            "   macro avg       0.89      0.81      0.84       200\n",
            "weighted avg       0.90      0.91      0.90       200\n",
            "\n"
          ]
        },
        {
          "output_type": "stream",
          "name": "stderr",
          "text": [
            "/usr/local/lib/python3.10/dist-packages/sklearn/metrics/_classification.py:1344: UndefinedMetricWarning: Precision and F-score are ill-defined and being set to 0.0 in labels with no predicted samples. Use `zero_division` parameter to control this behavior.\n",
            "  _warn_prf(average, modifier, msg_start, len(result))\n",
            "/usr/local/lib/python3.10/dist-packages/sklearn/metrics/_classification.py:1344: UndefinedMetricWarning: Precision and F-score are ill-defined and being set to 0.0 in labels with no predicted samples. Use `zero_division` parameter to control this behavior.\n",
            "  _warn_prf(average, modifier, msg_start, len(result))\n",
            "/usr/local/lib/python3.10/dist-packages/sklearn/metrics/_classification.py:1344: UndefinedMetricWarning: Precision and F-score are ill-defined and being set to 0.0 in labels with no predicted samples. Use `zero_division` parameter to control this behavior.\n",
            "  _warn_prf(average, modifier, msg_start, len(result))\n"
          ]
        },
        {
          "output_type": "stream",
          "name": "stdout",
          "text": [
            "Best Random Forest Performance:\n",
            "              precision    recall  f1-score   support\n",
            "\n",
            "           0       0.90      0.95      0.92        77\n",
            "           1       0.87      0.52      0.65        25\n",
            "           2       0.91      0.97      0.94        98\n",
            "\n",
            "    accuracy                           0.91       200\n",
            "   macro avg       0.89      0.81      0.84       200\n",
            "weighted avg       0.90      0.91      0.90       200\n",
            "\n"
          ]
        }
      ]
    },
    {
      "cell_type": "code",
      "source": [
        "# Initialize models with best hyperparameters\n",
        "best_models = {\n",
        "    'Logistic Regression': LogisticRegression(**grid_lr.best_params_),\n",
        "    'Decision Tree': DecisionTreeClassifier(**grid_dt.best_params_),\n",
        "    'Random Forest': RandomForestClassifier(**grid_rf.best_params_)\n",
        "}\n",
        "\n",
        "# Dictionary to store the results\n",
        "results = {\n",
        "    'Model': [],\n",
        "    'Accuracy': [],\n",
        "    'Precision': [],\n",
        "    'Recall': [],\n",
        "    'F1 Score': []\n",
        "}\n",
        "\n",
        "# Train and evaluate models\n",
        "for model_name, model in best_models.items():\n",
        "    model.fit(X_train, y_train)\n",
        "    y_pred = model.predict(X_test)\n",
        "    results['Model'].append(model_name)\n",
        "    results['Accuracy'].append(accuracy_score(y_test, y_pred))\n",
        "    results['Precision'].append(precision_score(y_test, y_pred, average='macro'))\n",
        "    results['Recall'].append(recall_score(y_test, y_pred, average='macro'))\n",
        "    results['F1 Score'].append(f1_score(y_test, y_pred, average='macro'))\n",
        "\n",
        "# Convert results to DataFrame for easier plotting\n",
        "results_df = pd.DataFrame(results)\n",
        "\n",
        "# Plot the results\n",
        "results_df.plot(x='Model', kind='bar', figsize=(12, 8))\n",
        "plt.title('Model Performance Comparison with Best Hyperparameters')\n",
        "plt.ylabel('Score')\n",
        "plt.xticks(rotation=0)\n",
        "plt.ylim(0, 1)\n",
        "plt.legend(loc='lower right')\n",
        "plt.show()"
      ],
      "metadata": {
        "colab": {
          "base_uri": "https://localhost:8080/",
          "height": 776
        },
        "id": "FTni_5_oBKe7",
        "outputId": "c415a841-adc2-4d79-b251-70182abc605b"
      },
      "execution_count": 28,
      "outputs": [
        {
          "output_type": "stream",
          "name": "stderr",
          "text": [
            "/usr/local/lib/python3.10/dist-packages/sklearn/metrics/_classification.py:1344: UndefinedMetricWarning: Precision is ill-defined and being set to 0.0 in labels with no predicted samples. Use `zero_division` parameter to control this behavior.\n",
            "  _warn_prf(average, modifier, msg_start, len(result))\n"
          ]
        },
        {
          "output_type": "display_data",
          "data": {
            "text/plain": [
              "<Figure size 1200x800 with 1 Axes>"
            ],
            "image/png": "[encoded data removed]"
          },
          "metadata": {}
        }
      ]
    },
    {
      "cell_type": "markdown",
      "source": [
        "# **Cross-Validation**"
      ],
      "metadata": {
        "id": "jh4hykKkBzzB"
      }
    },
    {
      "cell_type": "code",
      "source": [
        "# Perform cross-validation\n",
        "def cross_val(model, X, y, cv=5):\n",
        "    accuracy = cross_val_score(model, X, y, cv=cv, scoring='accuracy')\n",
        "    precision = cross_val_score(model, X, y, cv=cv, scoring='precision_macro')\n",
        "    recall = cross_val_score(model, X, y, cv=cv, scoring='recall_macro')\n",
        "    f1 = cross_val_score(model, X, y, cv=cv, scoring='f1_macro')\n",
        "\n",
        "    print(f\"Accuracy: {accuracy.mean():.4f} (+/- {accuracy.std():.4f})\")\n",
        "    print(f\"Precision: {precision.mean():.4f} (+/- {precision.std():.4f})\")\n",
        "    print(f\"Recall: {recall.mean():.4f} (+/- {recall.std():.4f})\")\n",
        "    print(f\"F1 Score: {f1.mean():.4f} (+/- {f1.std():.4f})\")\n",
        "    print()\n",
        "\n",
        "# Using best hyperparameters from GridSearchCV\n",
        "best_lr = LogisticRegression(**grid_lr.best_params_)\n",
        "best_dt = DecisionTreeClassifier(**grid_dt.best_params_)\n",
        "best_rf = RandomForestClassifier(**grid_rf.best_params_)\n",
        "\n",
        "print(\"Cross-Validation Results for Logistic Regression:\")\n",
        "cross_val(best_lr, X, y)\n",
        "\n",
        "print(\"Cross-Validation Results for Decision Tree:\")\n",
        "cross_val(best_dt, X, y)\n",
        "\n",
        "print(\"Cross-Validation Results for Random Forest:\")\n",
        "cross_val(best_rf, X, y)"
      ],
      "metadata": {
        "colab": {
          "base_uri": "https://localhost:8080/"
        },
        "id": "0pRKTyyTB5pb",
        "outputId": "ea4ef08b-f889-435f-c561-8f868219bcd6"
      },
      "execution_count": 29,
      "outputs": [
        {
          "output_type": "stream",
          "name": "stdout",
          "text": [
            "Cross-Validation Results for Logistic Regression:\n"
          ]
        },
        {
          "output_type": "stream",
          "name": "stderr",
          "text": [
            "/usr/local/lib/python3.10/dist-packages/sklearn/metrics/_classification.py:1344: UndefinedMetricWarning: Precision is ill-defined and being set to 0.0 in labels with no predicted samples. Use `zero_division` parameter to control this behavior.\n",
            "  _warn_prf(average, modifier, msg_start, len(result))\n",
            "/usr/local/lib/python3.10/dist-packages/sklearn/metrics/_classification.py:1344: UndefinedMetricWarning: Precision is ill-defined and being set to 0.0 in labels with no predicted samples. Use `zero_division` parameter to control this behavior.\n",
            "  _warn_prf(average, modifier, msg_start, len(result))\n",
            "/usr/local/lib/python3.10/dist-packages/sklearn/metrics/_classification.py:1344: UndefinedMetricWarning: Precision is ill-defined and being set to 0.0 in labels with no predicted samples. Use `zero_division` parameter to control this behavior.\n",
            "  _warn_prf(average, modifier, msg_start, len(result))\n",
            "/usr/local/lib/python3.10/dist-packages/sklearn/metrics/_classification.py:1344: UndefinedMetricWarning: Precision is ill-defined and being set to 0.0 in labels with no predicted samples. Use `zero_division` parameter to control this behavior.\n",
            "  _warn_prf(average, modifier, msg_start, len(result))\n",
            "/usr/local/lib/python3.10/dist-packages/sklearn/metrics/_classification.py:1344: UndefinedMetricWarning: Precision is ill-defined and being set to 0.0 in labels with no predicted samples. Use `zero_division` parameter to control this behavior.\n",
            "  _warn_prf(average, modifier, msg_start, len(result))\n"
          ]
        },
        {
          "output_type": "stream",
          "name": "stdout",
          "text": [
            "Accuracy: 0.7560 (+/- 0.0198)\n",
            "Precision: 0.5042 (+/- 0.0137)\n",
            "Recall: 0.5774 (+/- 0.0169)\n",
            "F1 Score: 0.5372 (+/- 0.0150)\n",
            "\n",
            "Cross-Validation Results for Decision Tree:\n",
            "Accuracy: 0.9120 (+/- 0.0216)\n",
            "Precision: 0.8983 (+/- 0.0261)\n",
            "Recall: 0.8534 (+/- 0.0333)\n",
            "F1 Score: 0.8707 (+/- 0.0290)\n",
            "\n",
            "Cross-Validation Results for Random Forest:\n",
            "Accuracy: 0.9200 (+/- 0.0263)\n",
            "Precision: 0.9174 (+/- 0.0261)\n",
            "Recall: 0.8600 (+/- 0.0358)\n",
            "F1 Score: 0.8805 (+/- 0.0348)\n",
            "\n"
          ]
        }
      ]
    }
  ]
}